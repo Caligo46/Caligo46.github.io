{
 "cells": [
  {
   "cell_type": "code",
   "execution_count": 14,
   "id": "extreme-grocery",
   "metadata": {},
   "outputs": [
    {
     "name": "stdout",
     "output_type": "stream",
     "text": [
      "['hello, world!\\n', 'hello to the worldls\\n']\n"
     ]
    }
   ],
   "source": [
    "with open('hello.txt', 'r') as file:\n",
    "    lines = file.readlines()\n",
    "    print(lines)"
   ]
  },
  {
   "cell_type": "code",
   "execution_count": 16,
   "id": "preceding-twelve",
   "metadata": {},
   "outputs": [],
   "source": [
    "with open('hello.txt', 'r') as file:\n",
    "    line = None\n",
    "    lines = []\n",
    "    while line != '':\n",
    "        line = file.readline()\n",
    "        lines.append(line)\n",
    "        #print(line.strip('\\n'))"
   ]
  },
  {
   "cell_type": "code",
   "execution_count": 17,
   "id": "intensive-joyce",
   "metadata": {},
   "outputs": [
    {
     "data": {
      "text/plain": [
       "['hello, world!\\n', 'hello to the worldls\\n', '']"
      ]
     },
     "execution_count": 17,
     "metadata": {},
     "output_type": "execute_result"
    }
   ],
   "source": [
    "lines"
   ]
  },
  {
   "cell_type": "markdown",
   "id": "painful-magazine",
   "metadata": {},
   "source": [
    "## 27.3 파이썬 객체를 파일에 저장하기, 가져오기"
   ]
  },
  {
   "cell_type": "code",
   "execution_count": 18,
   "id": "through-promotion",
   "metadata": {},
   "outputs": [],
   "source": [
    "import pickle\n",
    "\n",
    "name = 'james'\n",
    "age = 17\n",
    "address = '서울시 관악구 쑥고개로1나길 9'\n",
    "scores = {'korean': 90, 'english': 95, 'mathematics': 85, 'science': 82}\n",
    "\n",
    "with open('james.p', 'wb') as file:\n",
    "    pickle.dump(name, file)\n",
    "    pickle.dump(age, file)\n",
    "    pickle.dump(address, file)\n",
    "    pickle.dump(scores, file)"
   ]
  },
  {
   "cell_type": "code",
   "execution_count": 20,
   "id": "annoying-cornwall",
   "metadata": {},
   "outputs": [
    {
     "name": "stdout",
     "output_type": "stream",
     "text": [
      "james\n",
      "17\n"
     ]
    }
   ],
   "source": [
    "import pickle\n",
    "\n",
    "with open('james.p', 'rb') as file:\n",
    "    \n",
    "    name_2 = pickle.load(file)\n",
    "    age_2 = pickle.load(file)\n",
    "    print(name_2)\n",
    "    print(age_2)"
   ]
  },
  {
   "cell_type": "code",
   "execution_count": 34,
   "id": "competitive-welsh",
   "metadata": {},
   "outputs": [
    {
     "name": "stdout",
     "output_type": "stream",
     "text": [
      "4\n"
     ]
    }
   ],
   "source": [
    "with open('20210910/words.txt', 'r') as file:\n",
    "    lines = file.readlines()\n",
    "    count = 0\n",
    "    for line in lines:\n",
    "        #print(line.strip('\\n'))\n",
    "        #print(len(line.strip('\\n')))\n",
    "        if len(line.strip('\\n')) <= 10:\n",
    "            count += 1\n",
    "    print(count)"
   ]
  },
  {
   "cell_type": "code",
   "execution_count": null,
   "id": "japanese-phoenix",
   "metadata": {},
   "outputs": [],
   "source": []
  }
 ],
 "metadata": {
  "kernelspec": {
   "display_name": "Python 3",
   "language": "python",
   "name": "python3"
  },
  "language_info": {
   "codemirror_mode": {
    "name": "ipython",
    "version": 3
   },
   "file_extension": ".py",
   "mimetype": "text/x-python",
   "name": "python",
   "nbconvert_exporter": "python",
   "pygments_lexer": "ipython3",
   "version": "3.7.9"
  }
 },
 "nbformat": 4,
 "nbformat_minor": 5
}
